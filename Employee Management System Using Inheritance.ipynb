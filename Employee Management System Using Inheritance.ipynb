{
 "cells": [
  {
   "cell_type": "code",
   "execution_count": 1,
   "id": "d1717486-ad09-4156-abfb-179e8edc3979",
   "metadata": {},
   "outputs": [
    {
     "name": "stdout",
     "output_type": "stream",
     "text": [
      "Requirement already satisfied: colorama in f:\\anaconda\\file\\install_file\\lib\\site-packages (0.4.6)\n",
      "Requirement already satisfied: pyfiglet in f:\\anaconda\\file\\install_file\\lib\\site-packages (1.0.2)\n",
      "Note: you may need to restart the kernel to use updated packages.\n"
     ]
    }
   ],
   "source": [
    "pip install colorama pyfiglet\n"
   ]
  },
  {
   "cell_type": "code",
   "execution_count": 3,
   "id": "ba64d8bc-00ba-40ed-acd5-344695dc4cd3",
   "metadata": {},
   "outputs": [
    {
     "name": "stdout",
     "output_type": "stream",
     "text": [
      "Requirement already satisfied: emoji in f:\\anaconda\\file\\install_file\\lib\\site-packages (2.14.0)\n",
      "Note: you may need to restart the kernel to use updated packages.\n"
     ]
    }
   ],
   "source": [
    "pip install emoji"
   ]
  },
  {
   "cell_type": "code",
   "execution_count": 5,
   "id": "f5c486b4-f322-4b09-980b-0951658cca32",
   "metadata": {},
   "outputs": [
    {
     "name": "stdout",
     "output_type": "stream",
     "text": [
      " _____                 _                       \n",
      "| ____|_ __ ___  _ __ | | ___  _   _  ___  ___ \n",
      "|  _| | '_ ` _ \\| '_ \\| |/ _ \\| | | |/ _ \\/ _ \\\n",
      "| |___| | | | | | |_) | | (_) | |_| |  __/  __/\n",
      "|_____|_| |_| |_| .__/|_|\\___/ \\__, |\\___|\\___|\n",
      "                |_|            |___/           \n",
      " __  __                                                   _   \n",
      "|  \\/  | __ _ _ __   __ _  __ _  ___ _ __ ___   ___ _ __ | |_ \n",
      "| |\\/| |/ _` | '_ \\ / _` |/ _` |/ _ \\ '_ ` _ \\ / _ \\ '_ \\| __|\n",
      "| |  | | (_| | | | | (_| | (_| |  __/ | | | | |  __/ | | | |_ \n",
      "|_|  |_|\\__,_|_| |_|\\__,_|\\__, |\\___|_| |_| |_|\\___|_| |_|\\__|\n",
      "                          |___/                               \n",
      "\n",
      "Welcome! :wave:\n",
      "Please enter your login credentials below to access the system.\n"
     ]
    },
    {
     "name": "stdin",
     "output_type": "stream",
     "text": [
      "\u001b[33mEnter User ID:  Moinul\n",
      "\u001b[33mEnter Password:  Moinul909\n"
     ]
    },
    {
     "name": "stdout",
     "output_type": "stream",
     "text": [
      "Login successful! 👍 Access granted to the Employee Management System.\n",
      "\n",
      "--- Employee Management System ---\n",
      "1. Add Employee\n",
      "2. Display All Employees\n",
      "3. Exit\n"
     ]
    },
    {
     "name": "stdin",
     "output_type": "stream",
     "text": [
      "\u001b[96mEnter your choice:  1\n"
     ]
    },
    {
     "name": "stdout",
     "output_type": "stream",
     "text": [
      "\n",
      "--- Add New Employee ---\n"
     ]
    },
    {
     "name": "stdin",
     "output_type": "stream",
     "text": [
      "\u001b[33mEnter employee's name:  moinul\n",
      "\u001b[33mEnter employee's ID:  1001\n",
      "\u001b[33mEnter employee's salary:  5400\n",
      "\u001b[33mEnter employee's role (Manager/Developer/Designer):  Developer\n",
      "\u001b[33mEnter programming language:  Jaca\n"
     ]
    },
    {
     "name": "stdout",
     "output_type": "stream",
     "text": [
      "New Developer moinul added successfully! 💻\n",
      "moinul has been added successfully! ✨\n",
      "\n",
      "--- Employee Management System ---\n",
      "1. Add Employee\n",
      "2. Display All Employees\n",
      "3. Exit\n"
     ]
    },
    {
     "name": "stdin",
     "output_type": "stream",
     "text": [
      "\u001b[96mEnter your choice:  2\n"
     ]
    },
    {
     "name": "stdout",
     "output_type": "stream",
     "text": [
      "\n",
      "--- Employee List 📝 ---\n",
      "Employee ID: 1001, Name: moinul, Salary: 5400.0\n",
      "Programming Language: Jaca\n",
      "Bonus: 810.0 :moneybag:\n",
      "\n",
      "\n",
      "--- Employee Management System ---\n",
      "1. Add Employee\n",
      "2. Display All Employees\n",
      "3. Exit\n"
     ]
    },
    {
     "name": "stdin",
     "output_type": "stream",
     "text": [
      "\u001b[96mEnter your choice:  3\n"
     ]
    },
    {
     "name": "stdout",
     "output_type": "stream",
     "text": [
      "Exiting Employee Management System. Goodbye! 👋\n"
     ]
    }
   ],
   "source": [
    "# Import required libraries\n",
    "from colorama import Fore, Style, init\n",
    "import pyfiglet\n",
    "import emoji\n",
    "import time\n",
    "\n",
    "# Initialize colorama for cross-platform support\n",
    "init(autoreset=True)\n",
    "\n",
    "# Function to create animated loading effect\n",
    "def loading_animation(text=\"Loading\"):\n",
    "    animation = \"|/-\\\\\"\n",
    "    for i in range(10):\n",
    "        time.sleep(0.1)\n",
    "        print(f\"\\r{emoji.emojize(':hourglass:')} {text} {animation[i % len(animation)]}\", end=\"\")\n",
    "    print(\"\\r\", end=\"\")  # Clear the line once the animation is done\n",
    "\n",
    "# Login system for accessing the code with emoji\n",
    "def login():\n",
    "    print(Fore.CYAN + pyfiglet.figlet_format(\"Employee Management\"))\n",
    "    print(Fore.GREEN + emoji.emojize(\"Welcome! :wave:\"))\n",
    "    \n",
    "    # Animated typing effect\n",
    "    for char in \"Please enter your login credentials below to access the system.\\n\":\n",
    "        print(char, end='', flush=True)\n",
    "        time.sleep(0.05)\n",
    "    # UserId=Moinul\n",
    "# Password=Moinul909\n",
    "\n",
    "    user_id = input(Fore.YELLOW + \"Enter User ID: \")\n",
    "    password = input(Fore.YELLOW + \"Enter Password: \")\n",
    "    \n",
    "    # Animated loading effect\n",
    "    loading_animation(\"Verifying Credentials\")\n",
    "\n",
    "    if user_id == \"Moinul\" and password == \"Moinul909\":\n",
    "        print(Fore.GREEN + emoji.emojize(\"Login successful! :thumbs_up: Access granted to the Employee Management System.\"))\n",
    "        return True\n",
    "    else:\n",
    "        print(Fore.RED + emoji.emojize(\"Invalid credentials! :cross_mark: Access denied.\"))\n",
    "        return False\n",
    "\n",
    "# Base class Employee\n",
    "class Employee:\n",
    "    def __init__(self, name, emp_id, salary):\n",
    "        self.__name = name          # Encapsulated attribute\n",
    "        self.__emp_id = emp_id      # Encapsulated attribute\n",
    "        self.__salary = salary      # Encapsulated attribute\n",
    "    \n",
    "    # Getter methods to access encapsulated attributes\n",
    "    def get_name(self):\n",
    "        return self.__name\n",
    "    \n",
    "    def get_emp_id(self):\n",
    "        return self.__emp_id\n",
    "    \n",
    "    def get_salary(self):\n",
    "        return self.__salary\n",
    "    \n",
    "    def display_employee_details(self):\n",
    "        print(Fore.LIGHTBLUE_EX + f\"Employee ID: {self.__emp_id}, Name: {self.__name}, Salary: {self.__salary}\")\n",
    "    \n",
    "    def calculate_bonus(self):\n",
    "        raise NotImplementedError(\"Subclass must implement abstract method\")\n",
    "\n",
    "# Subclass Manager\n",
    "class Manager(Employee):\n",
    "    def __init__(self, name, emp_id, salary, department):\n",
    "        super().__init__(name, emp_id, salary)\n",
    "        self.department = department\n",
    "    \n",
    "    def display_employee_details(self):\n",
    "        super().display_employee_details()\n",
    "        print(Fore.CYAN + f\"Department: {self.department}\")\n",
    "    \n",
    "    def calculate_bonus(self):\n",
    "        # Manager gets 20% of their salary as bonus\n",
    "        return self.get_salary() * 0.20\n",
    "\n",
    "# Subclass Developer\n",
    "class Developer(Employee):\n",
    "    def __init__(self, name, emp_id, salary, programming_language):\n",
    "        super().__init__(name, emp_id, salary)\n",
    "        self.programming_language = programming_language\n",
    "    \n",
    "    def display_employee_details(self):\n",
    "        super().display_employee_details()\n",
    "        print(Fore.CYAN + f\"Programming Language: {self.programming_language}\")\n",
    "    \n",
    "    def calculate_bonus(self):\n",
    "        # Developer gets 15% of their salary as bonus\n",
    "        return self.get_salary() * 0.15\n",
    "\n",
    "# Subclass Designer\n",
    "class Designer(Employee):\n",
    "    def __init__(self, name, emp_id, salary, design_tool):\n",
    "        super().__init__(name, emp_id, salary)\n",
    "        self.design_tool = design_tool\n",
    "    \n",
    "    def display_employee_details(self):\n",
    "        super().display_employee_details()\n",
    "        print(Fore.CYAN + f\"Design Tool: {self.design_tool}\")\n",
    "    \n",
    "    def calculate_bonus(self):\n",
    "        # Designer gets 10% of their salary as bonus\n",
    "        return self.get_salary() * 0.10\n",
    "\n",
    "# Function to add a new employee based on the role\n",
    "def add_employee():\n",
    "    print(Fore.LIGHTMAGENTA_EX + \"\\n--- Add New Employee ---\")\n",
    "    name = input(Fore.YELLOW + \"Enter employee's name: \")\n",
    "    emp_id = int(input(Fore.YELLOW + \"Enter employee's ID: \"))\n",
    "    salary = float(input(Fore.YELLOW + \"Enter employee's salary: \"))\n",
    "    role = input(Fore.YELLOW + \"Enter employee's role (Manager/Developer/Designer): \").strip().lower()\n",
    "    \n",
    "    if role == 'manager':\n",
    "        department = input(Fore.YELLOW + \"Enter department: \")\n",
    "        print(emoji.emojize(f\"New Manager {name} added successfully! :briefcase:\"))\n",
    "        return Manager(name, emp_id, salary, department)\n",
    "    elif role == 'developer':\n",
    "        programming_language = input(Fore.YELLOW + \"Enter programming language: \")\n",
    "        print(emoji.emojize(f\"New Developer {name} added successfully! :laptop:\"))\n",
    "        return Developer(name, emp_id, salary, programming_language)\n",
    "    elif role == 'designer':\n",
    "        design_tool = input(Fore.YELLOW + \"Enter design tool: \")\n",
    "        print(emoji.emojize(f\"New Designer {name} added successfully! :art:\"))\n",
    "        return Designer(name, emp_id, salary, design_tool)\n",
    "    else:\n",
    "        print(Fore.RED + emoji.emojize(\"Invalid role! :cross_mark: Returning to the menu.\"))\n",
    "        return None\n",
    "\n",
    "# Function to display all employees with emoji enhancements\n",
    "def display_all_employees(employee_list):\n",
    "    if not employee_list:\n",
    "        print(Fore.RED + emoji.emojize(\"\\nNo employees in the system. :person_shrugging:\"))\n",
    "    else:\n",
    "        print(Fore.LIGHTGREEN_EX + emoji.emojize(\"\\n--- Employee List :memo: ---\"))\n",
    "        for emp in employee_list:\n",
    "            emp.display_employee_details()\n",
    "            print(Fore.YELLOW + f\"Bonus: {emp.calculate_bonus()} {emoji.emojize(':moneybag:')}\\n\")\n",
    "\n",
    "# Function to handle the menu options\n",
    "def menu():\n",
    "    employees = []\n",
    "    while True:\n",
    "        print(Fore.CYAN + \"\\n--- Employee Management System ---\")\n",
    "        print(Fore.LIGHTYELLOW_EX + \"1. Add Employee\")\n",
    "        print(Fore.LIGHTYELLOW_EX + \"2. Display All Employees\")\n",
    "        print(Fore.LIGHTYELLOW_EX + \"3. Exit\")\n",
    "\n",
    "        try:\n",
    "            choice = int(input(Fore.LIGHTCYAN_EX + \"Enter your choice: \"))\n",
    "            \n",
    "            if choice == 1:\n",
    "                # Add a new employee\n",
    "                employee = add_employee()\n",
    "                if employee:\n",
    "                    employees.append(employee)\n",
    "                    print(Fore.GREEN + emoji.emojize(f\"{employee.get_name()} has been added successfully! :sparkles:\"))\n",
    "            \n",
    "            elif choice == 2:\n",
    "                # Display all employees\n",
    "                display_all_employees(employees)\n",
    "            \n",
    "            elif choice == 3:\n",
    "                # Exit the system\n",
    "                print(Fore.MAGENTA + emoji.emojize(\"Exiting Employee Management System. Goodbye! :waving_hand:\"))\n",
    "                break\n",
    "            \n",
    "            else:\n",
    "                print(Fore.RED + emoji.emojize(\"Invalid choice! :cross_mark: Please select a valid option.\"))\n",
    "        \n",
    "        except ValueError:\n",
    "            print(Fore.RED + emoji.emojize(\"Invalid input! :cross_mark: Please enter a numeric choice.\"))\n",
    "\n",
    "# Main block to execute the system\n",
    "if login():\n",
    "    menu()\n",
    "else:\n",
    "    print(Fore.RED + emoji.emojize(\"Exiting the program. :cross_mark:\"))\n"
   ]
  },
  {
   "cell_type": "code",
   "execution_count": null,
   "id": "90ce282f-3225-4985-97a2-f6a61b8cfd48",
   "metadata": {},
   "outputs": [],
   "source": []
  }
 ],
 "metadata": {
  "kernelspec": {
   "display_name": "Python 3 (ipykernel)",
   "language": "python",
   "name": "python3"
  },
  "language_info": {
   "codemirror_mode": {
    "name": "ipython",
    "version": 3
   },
   "file_extension": ".py",
   "mimetype": "text/x-python",
   "name": "python",
   "nbconvert_exporter": "python",
   "pygments_lexer": "ipython3",
   "version": "3.12.4"
  }
 },
 "nbformat": 4,
 "nbformat_minor": 5
}
